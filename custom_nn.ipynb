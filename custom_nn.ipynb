{
 "cells": [
  {
   "cell_type": "code",
   "execution_count": 1,
   "id": "bc0e11b0",
   "metadata": {},
   "outputs": [],
   "source": [
    "import numpy as np\n",
    "from tqdm import tqdm\n",
    "import math"
   ]
  },
  {
   "cell_type": "code",
   "execution_count": 2,
   "id": "88575d84",
   "metadata": {},
   "outputs": [
    {
     "data": {
      "image/png": "[encoded data removed]",
      "text/plain": [
       "<Figure size 432x432 with 4 Axes>"
      ]
     },
     "metadata": {
      "needs_background": "light"
     },
     "output_type": "display_data"
    }
   ],
   "source": [
    "import matplotlib.pyplot as plt\n",
    "%matplotlib inline\n",
    "\n",
    "from mnist import load_dataset\n",
    "X_train, y_train, X_val, y_val, X_test, y_test = load_dataset(flatten=True)\n",
    "\n",
    "plt.figure(figsize=[6,6])\n",
    "for i in range(4):\n",
    "    plt.subplot(2,2,i+1)\n",
    "    plt.title(\"Label: %i\"%y_train[i])\n",
    "    plt.imshow(X_train[i].reshape([28,28]),cmap='gray');"
   ]
  },
  {
   "cell_type": "code",
   "execution_count": 224,
   "id": "5ea7ac0c",
   "metadata": {},
   "outputs": [],
   "source": [
    "import math\n",
    "np.random.seed(0)\n",
    "def xavier_init(x_in, x_out):\n",
    "    scale = 1/max(1., (x_in+x_out)/2.)\n",
    "    weights = np.sqrt(scale)*np.random.randn(x_in,x_out)\n",
    "    return weights"
   ]
  },
  {
   "cell_type": "code",
   "execution_count": 301,
   "id": "3c5793d0",
   "metadata": {},
   "outputs": [],
   "source": [
    "#784 -> 256 -> 64 -> 64 -> 10"
   ]
  },
  {
   "cell_type": "code",
   "execution_count": 394,
   "id": "27841d1a",
   "metadata": {},
   "outputs": [],
   "source": [
    "def softmax_crossentropy_with_logits(logits,reference_answers):\n",
    "    \"\"\"Compute crossentropy from logits[batch,n_classes] and ids of correct answers\"\"\"\n",
    "    logits_for_answers = logits[np.arange(len(logits)),reference_answers]\n",
    "    \n",
    "    xentropy = - logits_for_answers + np.log(np.sum(np.exp(logits),axis=-1))\n",
    "    if np.isinf(xentropy).any():\n",
    "        return 10*np.ones((xentropy.shape[0],))\n",
    "    else:\n",
    "        return xentropy\n",
    "    \n",
    "    \n",
    "\n",
    "def grad_softmax_crossentropy_with_logits(logits,reference_answers):\n",
    "    \"\"\"Compute crossentropy gradient from logits[batch,n_classes] and ids of correct answers\"\"\"\n",
    "    ones_for_answers = np.zeros_like(logits)\n",
    "    ones_for_answers[np.arange(len(logits)),reference_answers] = 1\n",
    "    \n",
    "    softmax = np.exp(logits) / np.exp(logits).sum(axis=-1,keepdims=True)\n",
    "    \n",
    "    return (- ones_for_answers + softmax) / logits.shape[0]"
   ]
  },
  {
   "cell_type": "code",
   "execution_count": 409,
   "id": "4983c9a7",
   "metadata": {},
   "outputs": [],
   "source": [
    "class Custom_NN:\n",
    "    \n",
    "    def __init__(self, batch, lr, decay, epochs, mean = 0, var = 1, alpha = 0.01):\n",
    "        \n",
    "        self.batch = batch\n",
    "        self.epochs = epochs\n",
    "        self.lr = lr\n",
    "        self.decay = decay\n",
    "        self.running_mean = mean\n",
    "        self.running_var = var\n",
    "        self.alpha = alpha\n",
    "        \n",
    "    def init_weights(self, X):\n",
    "        \n",
    "        self.w1 = xavier_init(X.shape[1],512)\n",
    "        self.w2 = xavier_init(self.w1.shape[1],256)\n",
    "        self.w3 = xavier_init(self.w2.shape[1],64)\n",
    "        self.w4  = xavier_init(self.w3.shape[1], 10)\n",
    "        \n",
    "        self.b1 = xavier_init(self.w1.shape[1], 1)\n",
    "        self.b2 = xavier_init(self.w2.shape[1],1)\n",
    "        self.b3 = xavier_init(self.w3.shape[1],1)\n",
    "        self.b4 = xavier_init(self.w4.shape[1],1)\n",
    "        \n",
    "        self.bn_gamma = 1\n",
    "        self.bn_beta = 0\n",
    "        self.bn_eps = 1e-5\n",
    "        \n",
    "    def forward(self, X, ftype = 'Train'):\n",
    "        \n",
    "        if ftype == 'Train':\n",
    "            \n",
    "            self.z1 = X.dot(self.w1)+self.b1.T \n",
    "            self.y1 = self.relu(self.z1)\n",
    "            self.dropout_y = self.dropout(self.y1)\n",
    "        \n",
    "            self.z2 = self.dropout_y.dot(self.w2)+self.b2.T\n",
    "            self.y2 = self.relu(self.z2)\n",
    "        \n",
    "            self.z3 = self.y2.dot(self.w3)+self.b3.T\n",
    "            #self.batch_y = self.batchnorm_forward(self.z3, btype = 'Train')\n",
    "            self.y3 = self.elu(self.z3)\n",
    "        \n",
    "            self.z4 = self.y3.dot(self.w4) + self.b4.T\n",
    "            \n",
    "        else:\n",
    "            \n",
    "            self.z1 = X.dot(self.w1)+self.b1.T \n",
    "            self.y1 = self.relu(self.z1)\n",
    "            #self.dropout_y = self.dropout(self.y1)\n",
    "        \n",
    "            self.z2 = self.y1.dot(self.w2)+self.b2.T\n",
    "            self.y2 = self.relu(self.z2)\n",
    "        \n",
    "            self.z3 = self.y2.dot(self.w3)+self.b3.T\n",
    "            #self.batch_y = self.batchnorm_forward(self.z3, btype = 'Test')\n",
    "            self.y3 = self.elu(self.z3)\n",
    "        \n",
    "            self.z4 = self.y3.dot(self.w4) + self.b4.T\n",
    "            \n",
    "        \n",
    "    def backward(self, X, y):\n",
    "        \n",
    "        self.loss = softmax_crossentropy_with_logits(self.z4, y)+ self.alpha*(np.sum(self.w1**2) + np.sum(self.w2**2) + np.sum(self.w3**2)+ np.sum(self.w4**2)\\\n",
    "                                                                                       + np.sum(self.b1**2) + np.sum(self.b2**2) + np.sum(self.b3**2)+ np.sum(self.b4**2)) # l2  регулярищация\n",
    "        \n",
    "        grad4_1_w = self.loss # ошибка \n",
    "        grad4_2_w = grad_softmax_crossentropy_with_logits(self.z4, y)  # производная функции активации на последнем нейроне\n",
    "        grad4_3_w = self.y3 # выходной сигнал к текущему нейрону \n",
    "\n",
    "        grad4_w = grad4_3_w.T.dot(grad4_1_w.reshape(-1,1) * grad4_2_w) + 2* self.w4 * float(self.alpha)# сигнал * локальный градиент нейрона\n",
    "        grad4_b = np.sum(grad4_1_w.reshape(-1,1) * grad4_2_w) +  2* self.b4 * float(self.alpha)\n",
    "        \n",
    "        grad3_1_w = (grad4_1_w.reshape(-1,1)*grad4_2_w).dot(self.w4.T) # локальный градиент последнего нейрона по входящим весам связи\n",
    "        grad3_2_w = self.elu_grad(self.z3) # производная функции активации на текущем нейроне  # self.bn_grad(self.elu_grad(self.z3)) \n",
    "        grad3_3_w = self.y2 # выходной сигнал к тек нейрону\n",
    "        \n",
    "        grad3_w = grad3_3_w.T.dot(grad3_1_w * grad3_2_w) + 2* self.w3 * float(self.alpha)\n",
    "        grad3_b = np.sum(grad3_1_w * grad3_2_w) +  2* self.b3 * float(self.alpha)\n",
    "        \n",
    "        grad2_1_w = (grad3_1_w * grad3_2_w).dot(self.w3.T)\n",
    "        grad2_2_w = self.relu_grad(self.z2)\n",
    "        grad2_3_w = self.dropout_y\n",
    "        \n",
    "        grad2_w = grad2_3_w.T.dot(grad2_1_w * grad2_2_w) +  2*self.w2 * float(self.alpha)\n",
    "        grad2_b = np.sum(grad2_1_w * grad2_2_w) +  2*self.b2 * float(self.alpha)\n",
    "        \n",
    "        \n",
    "        grad1_1_w = (grad2_1_w * grad2_2_w).dot(self.w2.T)\n",
    "        grad1_2_w = self.dropout_grad(self.relu_grad(self.z1)) # dy/dz1 = d(drop(relu(bn(z1))))/dz1\n",
    "        grad1_3_w = X\n",
    "        \n",
    "        grad1_w = grad1_3_w.T.dot(grad1_1_w * grad1_2_w) +  2*self.w1 * float(self.alpha)\n",
    "        grad1_b = np.sum(grad1_1_w * grad1_2_w) +  2*self.b1 * float(self.alpha)\n",
    "       \n",
    "        \n",
    "        \n",
    "        self.w4 = self.w4 - self.lr * grad4_w\n",
    "        self.w3 = self.w3 - self.lr * grad3_w\n",
    "        self.w2 = self.w2 - self.lr * grad2_w\n",
    "        self.w1 = self.w1 - self.lr * grad1_w\n",
    "        \n",
    "        self.b4 = self.b4 - self.lr * grad4_b\n",
    "        self.b3 = self.b3 - self.lr * grad3_b\n",
    "        self.b2 = self.b2 - self.lr * grad2_b\n",
    "        self.b1 = self.b1 - self.lr * grad1_b\n",
    "        \n",
    "        #self.bn_gamma = self.bn_gamma - self.decay*self.dgamma\n",
    "        #self.bn_beta = self.bn_beta - self.decay*self.dbeta\n",
    "    \n",
    "    \n",
    "    def fit(self, X, y):\n",
    "        \n",
    "        self.init_weights(X)\n",
    "        self.loss_total = []\n",
    "        for epoch in tqdm(range(self.epochs)):\n",
    "            loss = 0\n",
    "            x_tr, y_tr = shuffle(X, y)\n",
    "            for batch in range(x_tr.shape[0]//self.batch-1):\n",
    "                start = batch * self.batch\n",
    "                end = (batch+1) * self.batch\n",
    "                self.forward(X = x_tr[start:end])\n",
    "                self.backward(X = x_tr[start:end], y = y_tr[start:end])\n",
    "                loss += self.loss\n",
    "        \n",
    "            loss_mean = np.mean(loss/(x_tr.shape[0]//self.batch))\n",
    "\n",
    "            self.loss_total.append(loss_mean)\n",
    "            \n",
    "    def predict(self, X):\n",
    "        \n",
    "        self.forward(X, ftype = 'Test')\n",
    "    \n",
    "        return list(map(lambda x : x.argmax(), self.z4))\n",
    "        \n",
    "        \n",
    "        \n",
    "    def dropout(self,x, prob = 0.8):\n",
    "        self.mask = np.random.binomial(1,prob,size=x.shape) / prob\n",
    "        out = x * self.mask\n",
    "        return out.reshape(x.shape)\n",
    "        \n",
    "    def dropout_grad(self,x):\n",
    "        out = x * self.mask\n",
    "        return out\n",
    "    \n",
    "    def batchnorm_forward(self, x, btype):\n",
    "\n",
    "        N, D = x.shape\n",
    "        \n",
    "        if btype == 'Train':\n",
    "            \n",
    "            \n",
    "            mu = np.mean(x, axis=0)\n",
    "            var = np.var(x, axis=0)\n",
    "\n",
    "            x_norm = (x - mu) / np.sqrt(var + self.bn_eps)\n",
    "            out = self.bn_gamma * x_norm + self.bn_beta\n",
    "\n",
    "            self.batch_norm_cache = (x, x_norm, mu, var)\n",
    "        \n",
    "            self.running_mean = 0.99 * self.running_mean + 0.01 * mu\n",
    "            self.running_var = 0.99 * self.running_var + 0.01 * var\n",
    "\n",
    "            return out\n",
    "        \n",
    "        else:\n",
    "            \n",
    "            x_normalized = (x - self.running_mean)/np.sqrt(self.running_var + self.bn_eps)\n",
    "            out = self.bn_gamma*x_normalized + self.bn_beta\n",
    "            \n",
    "            return out\n",
    "    \n",
    "    \n",
    "    def batchnorm_grad(self, x):\n",
    "\n",
    "        x_hat,x_norm, mu ,var = self.batch_norm_cache\n",
    "        \n",
    "        N,D = x.shape\n",
    "\n",
    "        X_mu = x_hat - mu\n",
    "        std_inv = 1. / np.sqrt(var + self.bn_eps)\n",
    "\n",
    "        dX_norm = x * self.bn_gamma\n",
    "        dvar = np.sum(dX_norm * X_mu, axis=0) * -.5 * std_inv**3\n",
    "        dmu = np.sum(dX_norm * -std_inv, axis=0) + dvar * np.mean(-2. * X_mu, axis=0)\n",
    "\n",
    "        dX = (dX_norm * std_inv) + (dvar * 2 * X_mu / N) + (dmu / N)\n",
    "        \n",
    "        self.dgamma = np.sum(x * x_norm , axis=0)\n",
    "        self.dbeta = np.sum(x, axis=0)\n",
    "\n",
    "        return dX\n",
    "    \n",
    "    def elu(self,x):\n",
    "        \n",
    "        pos = (x>=0)*x\n",
    "        neg = (x<0)* 0.1* (np.exp(x)-1)\n",
    "        return pos + neg\n",
    "    \n",
    "    def elu_grad(self,x):\n",
    "        \n",
    "        pos = (x>=0)*1\n",
    "        neg = (x<0)* (self.elu(x) + 0.1)\n",
    "        return pos + neg\n",
    "        \n",
    "    def gelu(self,x):\n",
    "    \n",
    "        return 0.5*x*(1+ np.tanh(np.sqrt(2/np.pi)*(x+0.044715*x**3)))\n",
    "    \n",
    "    def gelu_grad(self,x):\n",
    "        \n",
    "        return 0.5+ 0.5*np.tanh(0.0356774*x**3 + 0.797885*x) + (0.0535161*x**3 + 0.398942*x)*1/(np.cosh(0.0356774*x**3+0.797885*x)**2)\n",
    "        \n",
    "        \n",
    "    def linear(self,x):\n",
    "        \n",
    "        return x\n",
    "    \n",
    "    def linear_grad(self,x):\n",
    "        \n",
    "        return np.sign(x)\n",
    "    \n",
    "    def abs_grad(self, x):\n",
    "        pos = (x >= 0) *1.0\n",
    "        neg = (x<0) * -1.0\n",
    "        return pos + neg\n",
    "        \n",
    "    def relu(self,x):\n",
    "            \n",
    "        return np.maximum(0,x)\n",
    "        \n",
    "    def relu_grad(self,x):\n",
    "            \n",
    "        return (x>0)*1\n",
    "        \n",
    "    def softmax(self,x):\n",
    "            \n",
    "        return np.exp(x) / np.sum(np.exp(x))\n",
    "    \n",
    "    \n",
    "    def softmax_grad(self, x):\n",
    "        exp_element=np.exp(x-x.max())\n",
    "        return exp_element/np.sum(exp_element,axis=0)*(1-exp_element/np.sum(exp_element,axis=0))\n",
    "        \n",
    "    def shuffle(self, x, y):\n",
    "        idx = [i for i in range(x.shape[0])]\n",
    "        np.random.shuffle(idx)\n",
    "        return x[idx], y[idx]\n",
    "        \n",
    "        "
   ]
  },
  {
   "cell_type": "code",
   "execution_count": 410,
   "id": "68b3722e",
   "metadata": {},
   "outputs": [],
   "source": [
    "nn = Custom_NN(batch = 32, lr = 1e-3, decay = 1e-5, epochs = 20)"
   ]
  },
  {
   "cell_type": "code",
   "execution_count": 411,
   "id": "7034c228",
   "metadata": {},
   "outputs": [
    {
     "name": "stderr",
     "output_type": "stream",
     "text": [
      "100%|███████████████████████████████████████████| 20/20 [03:53<00:00, 11.68s/it]\n"
     ]
    }
   ],
   "source": [
    "nn.fit(X_train, y_train)"
   ]
  },
  {
   "cell_type": "code",
   "execution_count": 412,
   "id": "623d1f46",
   "metadata": {},
   "outputs": [],
   "source": [
    "predicted = nn.predict(X_test)"
   ]
  },
  {
   "cell_type": "markdown",
   "id": "71d360c4",
   "metadata": {},
   "source": [
    "### Relu+Relu+3 layers"
   ]
  },
  {
   "cell_type": "code",
   "execution_count": 58,
   "id": "c7e3e134",
   "metadata": {},
   "outputs": [
    {
     "data": {
      "text/plain": [
       "array([[ 950,    0,    2,    2,    0,   11,   11,    2,    2,    0],\n",
       "       [   0, 1108,    2,    2,    0,    2,    4,    1,   16,    0],\n",
       "       [   9,    7,  935,   19,   12,    2,   10,   11,   20,    7],\n",
       "       [   0,    1,   15,  931,    0,   25,    3,   13,   14,    8],\n",
       "       [   1,    2,    6,    0,  914,    0,   13,    4,    4,   38],\n",
       "       [   9,    2,    3,   40,    6,  782,   19,    4,   19,    8],\n",
       "       [   8,    3,    5,    0,   15,    8,  914,    1,    4,    0],\n",
       "       [   2,    7,   18,    6,    5,    1,    0,  962,    2,   25],\n",
       "       [   5,    3,    5,   30,    7,   16,   17,    7,  869,   15],\n",
       "       [   8,    9,    2,   10,   32,    5,    1,   18,    7,  917]])"
      ]
     },
     "execution_count": 58,
     "metadata": {},
     "output_type": "execute_result"
    }
   ],
   "source": [
    "from sklearn.metrics import confusion_matrix, classification_report\n",
    "confusion_matrix(nn.target, predicted)"
   ]
  },
  {
   "cell_type": "code",
   "execution_count": 59,
   "id": "7c85ca0a",
   "metadata": {},
   "outputs": [
    {
     "name": "stdout",
     "output_type": "stream",
     "text": [
      "              precision    recall  f1-score   support\n",
      "\n",
      "           0       0.96      0.97      0.96       980\n",
      "           1       0.97      0.98      0.97      1135\n",
      "           2       0.94      0.91      0.92      1032\n",
      "           3       0.90      0.92      0.91      1010\n",
      "           4       0.92      0.93      0.93       982\n",
      "           5       0.92      0.88      0.90       892\n",
      "           6       0.92      0.95      0.94       958\n",
      "           7       0.94      0.94      0.94      1028\n",
      "           8       0.91      0.89      0.90       974\n",
      "           9       0.90      0.91      0.90      1009\n",
      "\n",
      "    accuracy                           0.93     10000\n",
      "   macro avg       0.93      0.93      0.93     10000\n",
      "weighted avg       0.93      0.93      0.93     10000\n",
      "\n"
     ]
    }
   ],
   "source": [
    "print(classification_report(nn.target, predicted, target_names= ['0','1','2', '3', '4', '5', '6', '7', '8', '9']))"
   ]
  },
  {
   "cell_type": "code",
   "execution_count": 62,
   "id": "0f4635e3",
   "metadata": {},
   "outputs": [
    {
     "data": {
      "image/png": "[encoded data removed]",
      "text/plain": [
       "<Figure size 432x288 with 1 Axes>"
      ]
     },
     "metadata": {
      "needs_background": "light"
     },
     "output_type": "display_data"
    }
   ],
   "source": [
    "plt.plot(nn.loss_total,label='train_loss_relu_relu')\n",
    "plt.legend(loc='best')\n",
    "plt.grid()\n",
    "plt.show()"
   ]
  },
  {
   "cell_type": "markdown",
   "id": "73c22fd6",
   "metadata": {},
   "source": [
    "### Relu(x2)+ELU 4 layers "
   ]
  },
  {
   "cell_type": "code",
   "execution_count": 12,
   "id": "aaed1aa5",
   "metadata": {},
   "outputs": [
    {
     "name": "stdout",
     "output_type": "stream",
     "text": [
      "              precision    recall  f1-score   support\n",
      "\n",
      "           0       0.96      0.98      0.97       980\n",
      "           1       0.98      0.98      0.98      1135\n",
      "           2       0.95      0.94      0.95      1032\n",
      "           3       0.94      0.94      0.94      1010\n",
      "           4       0.95      0.93      0.94       982\n",
      "           5       0.93      0.92      0.93       892\n",
      "           6       0.94      0.96      0.95       958\n",
      "           7       0.96      0.93      0.94      1028\n",
      "           8       0.93      0.92      0.92       974\n",
      "           9       0.90      0.94      0.92      1009\n",
      "\n",
      "    accuracy                           0.94     10000\n",
      "   macro avg       0.94      0.94      0.94     10000\n",
      "weighted avg       0.94      0.94      0.94     10000\n",
      "\n"
     ]
    }
   ],
   "source": [
    "from sklearn.metrics import confusion_matrix, classification_report\n",
    "print(classification_report(nn.target, predicted, target_names= ['0','1','2', '3', '4', '5', '6', '7', '8', '9']))"
   ]
  },
  {
   "cell_type": "markdown",
   "id": "b5f14379",
   "metadata": {},
   "source": [
    "### Relu(x2)+ELU 4 layers +Drop"
   ]
  },
  {
   "cell_type": "code",
   "execution_count": 16,
   "id": "872eeb61",
   "metadata": {},
   "outputs": [
    {
     "name": "stdout",
     "output_type": "stream",
     "text": [
      "              precision    recall  f1-score   support\n",
      "\n",
      "           0       0.96      0.97      0.97       980\n",
      "           1       0.98      0.98      0.98      1135\n",
      "           2       0.95      0.92      0.94      1032\n",
      "           3       0.91      0.95      0.93      1010\n",
      "           4       0.94      0.93      0.94       982\n",
      "           5       0.94      0.91      0.92       892\n",
      "           6       0.94      0.95      0.94       958\n",
      "           7       0.95      0.93      0.94      1028\n",
      "           8       0.93      0.92      0.92       974\n",
      "           9       0.91      0.92      0.91      1009\n",
      "\n",
      "    accuracy                           0.94     10000\n",
      "   macro avg       0.94      0.94      0.94     10000\n",
      "weighted avg       0.94      0.94      0.94     10000\n",
      "\n"
     ]
    }
   ],
   "source": [
    "from sklearn.metrics import confusion_matrix, classification_report\n",
    "print(classification_report(nn.target, predicted, target_names= ['0','1','2', '3', '4', '5', '6', '7', '8', '9']))"
   ]
  },
  {
   "cell_type": "markdown",
   "id": "f7b7a4ac",
   "metadata": {},
   "source": [
    "### Relu(x2)+ELU 4 layers +Drop + Batch_norm"
   ]
  },
  {
   "cell_type": "code",
   "execution_count": 335,
   "id": "6259da53",
   "metadata": {},
   "outputs": [
    {
     "name": "stdout",
     "output_type": "stream",
     "text": [
      "              precision    recall  f1-score   support\n",
      "\n",
      "           0       0.37      0.79      0.50       980\n",
      "           1       0.88      0.91      0.90      1135\n",
      "           2       0.84      0.52      0.64      1032\n",
      "           3       0.74      0.66      0.69      1010\n",
      "           4       0.72      0.69      0.71       982\n",
      "           5       0.44      0.13      0.20       892\n",
      "           6       0.76      0.87      0.81       958\n",
      "           7       0.69      0.68      0.69      1028\n",
      "           8       0.36      0.39      0.37       974\n",
      "           9       0.59      0.47      0.52      1009\n",
      "\n",
      "    accuracy                           0.62     10000\n",
      "   macro avg       0.64      0.61      0.60     10000\n",
      "weighted avg       0.65      0.62      0.61     10000\n",
      "\n"
     ]
    }
   ],
   "source": [
    "from sklearn.metrics import confusion_matrix, classification_report\n",
    "print(classification_report(nn.target, predicted, target_names= ['0','1','2', '3', '4', '5', '6', '7', '8', '9']))"
   ]
  },
  {
   "cell_type": "code",
   "execution_count": 418,
   "id": "42f8d8b5",
   "metadata": {},
   "outputs": [],
   "source": [
    "## хз че так плохо с батч нормом либо на этих данных плохая затея либо не так реализовал"
   ]
  },
  {
   "cell_type": "code",
   "execution_count": 334,
   "id": "61f21cf1",
   "metadata": {},
   "outputs": [
    {
     "data": {
      "image/png": "[encoded data removed]",
      "text/plain": [
       "<Figure size 432x288 with 1 Axes>"
      ]
     },
     "metadata": {
      "needs_background": "light"
     },
     "output_type": "display_data"
    }
   ],
   "source": [
    "plt.plot(nn.loss_total,label='train_loss_relu_relu')\n",
    "plt.legend(loc='best')\n",
    "plt.grid()\n",
    "plt.show()"
   ]
  },
  {
   "cell_type": "markdown",
   "id": "dec303c8",
   "metadata": {},
   "source": [
    "### Relu(x2)+ELU 4 layers +Drop  + l2 reg"
   ]
  },
  {
   "cell_type": "code",
   "execution_count": 414,
   "id": "53914a79",
   "metadata": {},
   "outputs": [
    {
     "name": "stdout",
     "output_type": "stream",
     "text": [
      "              precision    recall  f1-score   support\n",
      "\n",
      "           0       0.98      0.98      0.98       980\n",
      "           1       0.98      0.99      0.99      1135\n",
      "           2       0.98      0.97      0.97      1032\n",
      "           3       0.97      0.98      0.97      1010\n",
      "           4       0.98      0.97      0.98       982\n",
      "           5       0.98      0.96      0.97       892\n",
      "           6       0.96      0.98      0.97       958\n",
      "           7       0.97      0.97      0.97      1028\n",
      "           8       0.96      0.97      0.97       974\n",
      "           9       0.96      0.97      0.97      1009\n",
      "\n",
      "    accuracy                           0.97     10000\n",
      "   macro avg       0.97      0.97      0.97     10000\n",
      "weighted avg       0.97      0.97      0.97     10000\n",
      "\n"
     ]
    }
   ],
   "source": [
    "print(classification_report(y_test, predicted, target_names= ['0','1','2', '3', '4', '5', '6', '7', '8', '9']))"
   ]
  },
  {
   "cell_type": "code",
   "execution_count": 415,
   "id": "c70e6e6d",
   "metadata": {},
   "outputs": [
    {
     "data": {
      "image/png": "[encoded data removed]",
      "text/plain": [
       "<Figure size 432x288 with 1 Axes>"
      ]
     },
     "metadata": {
      "needs_background": "light"
     },
     "output_type": "display_data"
    }
   ],
   "source": [
    "plt.plot(nn.loss_total,label='train_loss_relu_relu')\n",
    "plt.legend(loc='best')\n",
    "plt.grid()\n",
    "plt.show()"
   ]
  },
  {
   "cell_type": "code",
   "execution_count": 417,
   "id": "aa1b3923",
   "metadata": {},
   "outputs": [
    {
     "data": {
      "text/plain": [
       "array([[ 962,    0,    1,    1,    0,    5,    6,    1,    2,    2],\n",
       "       [   0, 1122,    2,    1,    0,    0,    4,    1,    5,    0],\n",
       "       [   4,    2,  997,    4,    3,    0,    5,    9,    8,    0],\n",
       "       [   0,    0,    3,  989,    0,    4,    0,    6,    6,    2],\n",
       "       [   0,    0,    2,    0,  957,    0,    4,    2,    2,   15],\n",
       "       [   4,    1,    0,   10,    1,  857,   10,    1,    5,    3],\n",
       "       [   4,    3,    0,    0,    6,    6,  935,    0,    4,    0],\n",
       "       [   1,    8,   11,    2,    0,    0,    0,  995,    1,   10],\n",
       "       [   2,    0,    2,    6,    4,    3,    5,    2,  946,    4],\n",
       "       [   4,    5,    0,    6,    6,    2,    1,    4,    3,  978]])"
      ]
     },
     "execution_count": 417,
     "metadata": {},
     "output_type": "execute_result"
    }
   ],
   "source": [
    "confusion_matrix(y_test, predicted)"
   ]
  },
  {
   "cell_type": "code",
   "execution_count": null,
   "id": "0e062e53",
   "metadata": {},
   "outputs": [],
   "source": []
  }
 ],
 "metadata": {
  "kernelspec": {
   "display_name": "Python 3.9 (transformers)",
   "language": "python",
   "name": "transformers"
  },
  "language_info": {
   "codemirror_mode": {
    "name": "ipython",
    "version": 3
   },
   "file_extension": ".py",
   "mimetype": "text/x-python",
   "name": "python",
   "nbconvert_exporter": "python",
   "pygments_lexer": "ipython3",
   "version": "3.9.12"
  }
 },
 "nbformat": 4,
 "nbformat_minor": 5
}
